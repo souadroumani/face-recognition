{
 "cells": [
  {
   "cell_type": "code",
   "execution_count": 16,
   "metadata": {},
   "outputs": [],
   "source": [
    "import tensorflow as tf\n",
    "import keras,os\n",
    "import keras.utils as image\n",
    "from keras.preprocessing.image import ImageDataGenerator\n",
    "import numpy as np\n",
    "from glob import glob\n",
    "import matplotlib.pyplot as plt\n",
    "import pandas as pd\n"
   ]
  },
  {
   "attachments": {},
   "cell_type": "markdown",
   "metadata": {},
   "source": [
    "https://thinkingneuron.com/face-recognition-using-deep-learning-cnn-in-python/https://thinkingneuron.com/face-recognition-using-deep-learning-cnn-in-python/"
   ]
  },
  {
   "cell_type": "code",
   "execution_count": 17,
   "metadata": {},
   "outputs": [],
   "source": [
    "# # re-size all the images to this\n",
    "# IMAGE_SIZE = (224, 224,3)\n",
    "# shape_size = (224,224)\n"
   ]
  },
  {
   "cell_type": "code",
   "execution_count": 18,
   "metadata": {},
   "outputs": [
    {
     "name": "stdout",
     "output_type": "stream",
     "text": [
      "Found 699 images belonging to 9 classes.\n",
      "Found 699 images belonging to 9 classes.\n"
     ]
    },
    {
     "data": {
      "text/plain": [
       "{'joudi': 0,\n",
       " 'nabeh': 1,\n",
       " 'per4': 2,\n",
       " 'per5': 3,\n",
       " 'per6': 4,\n",
       " 'per7': 5,\n",
       " 'per8': 6,\n",
       " 'qusai': 7,\n",
       " 'souad': 8}"
      ]
     },
     "execution_count": 18,
     "metadata": {},
     "output_type": "execute_result"
    }
   ],
   "source": [
    "train_datagen = ImageDataGenerator(rescale = 1./255,\n",
    "                                   shear_range = 0.2,\n",
    "                                   zoom_range = 0.2,\n",
    "                                   horizontal_flip = True)\n",
    "\n",
    "test_datagen = ImageDataGenerator()\n",
    "\n",
    "traindata = train_datagen.flow_from_directory(directory='.\\Datasets\\Train',\n",
    "                                                 target_size = (64,64),\n",
    "                                                 batch_size = 32,\n",
    "                                                 class_mode = 'categorical')\n",
    "\n",
    "testdata = test_datagen.flow_from_directory(directory='.\\Datasets\\Train',\n",
    "                                            target_size = (64,64),\n",
    "                                            batch_size = 32,\n",
    "                                            class_mode = 'categorical')\n",
    "testdata.class_indices                                            "
   ]
  },
  {
   "attachments": {},
   "cell_type": "markdown",
   "metadata": {},
   "source": [
    "Creating a mapping for index and face names"
   ]
  },
  {
   "cell_type": "code",
   "execution_count": 19,
   "metadata": {},
   "outputs": [
    {
     "name": "stdout",
     "output_type": "stream",
     "text": [
      "Mapping of Face and its ID {0: 'joudi', 1: 'nabeh', 2: 'per4', 3: 'per5', 4: 'per6', 5: 'per7', 6: 'per8', 7: 'qusai', 8: 'souad'}\n",
      "\n",
      " The Number of output neurons:  9\n"
     ]
    }
   ],
   "source": [
    "# class_indices have the numeric tag for each face\n",
    "TrainClasses=traindata.class_indices\n",
    " \n",
    "# Storing the face and the numeric tag for future reference\n",
    "ResultMap={}\n",
    "for faceValue,faceName in zip(TrainClasses.values(),TrainClasses.keys()):\n",
    "    ResultMap[faceValue]=faceName\n",
    " \n",
    "# Saving the face map for future reference\n",
    "import pickle\n",
    "with open(\"ResultsMap.pkl\", 'wb') as fileWriteStream:\n",
    "    pickle.dump(ResultMap, fileWriteStream)\n",
    " \n",
    "# The model will give answer as a numeric tag\n",
    "# This mapping will help to get the corresponding face name for it\n",
    "print(\"Mapping of Face and its ID\",ResultMap)\n",
    " \n",
    "# The number of neurons for the output layer is equal to the number of faces\n",
    "OutputNeurons=len(ResultMap)\n",
    "print('\\n The Number of output neurons: ', OutputNeurons)"
   ]
  },
  {
   "attachments": {},
   "cell_type": "markdown",
   "metadata": {},
   "source": [
    "https://towardsdatascience.com/step-by-step-vgg16-implementation-in-keras-for-beginners-a833c686ae6c"
   ]
  },
  {
   "cell_type": "code",
   "execution_count": 20,
   "metadata": {},
   "outputs": [],
   "source": [
    "model = tf.keras.Sequential([tf.keras.layers.Conv2D(input_shape=(64,64,3),filters=64,strides=(1, 1),kernel_size=(3,3),padding=\"same\", activation=\"relu\"),\n",
    "                    tf.keras.layers.Conv2D(filters=64,strides=(1, 1),kernel_size=(3,3),padding=\"same\", activation=\"relu\"),    \n",
    "                    tf.keras.layers.MaxPool2D(pool_size=(2,2),strides=(2,2)),\n",
    "                    tf.keras.layers.Conv2D(filters=128, kernel_size=(3,3),strides=(1, 1), padding=\"same\", activation=\"relu\"),\n",
    "                    tf.keras.layers.Conv2D(filters=128, kernel_size=(3,3),strides=(1, 1), padding=\"same\", activation=\"relu\"),\n",
    "                    tf.keras.layers.MaxPool2D(pool_size=(2,2),strides=(2,2)),\n",
    "                    tf.keras.layers.Conv2D(filters=256, kernel_size=(3,3),strides=(1, 1), padding=\"same\", activation=\"relu\"),\n",
    "                    tf.keras.layers.Conv2D(filters=256, kernel_size=(3,3),strides=(1, 1), padding=\"same\", activation=\"relu\"),\n",
    "                    tf.keras.layers.MaxPool2D(pool_size=(2,2),strides=(2,2)),\n",
    "                    tf.keras.layers.Conv2D(filters=512, kernel_size=(3,3),strides=(1, 1), padding=\"same\", activation=\"relu\"),\n",
    "                    tf.keras.layers.Conv2D(filters=512, kernel_size=(3,3),strides=(1, 1), padding=\"same\", activation=\"relu\"),\n",
    "                    tf.keras.layers.MaxPool2D(pool_size=(2,2),strides=(2,2)),\n",
    "                    tf.keras.layers.Conv2D(filters=512, kernel_size=(3,3),strides=(1, 1), padding=\"same\", activation=\"relu\"),\n",
    "                    tf.keras.layers.Conv2D(filters=512, kernel_size=(3,3),strides=(1, 1), padding=\"same\", activation=\"relu\"),\n",
    "                    tf.keras.layers.MaxPool2D(pool_size=(2,2),strides=(2,2)),\n",
    "                    tf.keras.layers.Flatten(),\n",
    "                    tf.keras.layers.Dense(128,activation='relu'),\n",
    "                    tf.keras.layers.Dense(128,activation='relu'),\n",
    "                    #tf.keras.layers.Flatten(),\n",
    "                    tf.keras.layers.Dense(9,activation='softmax'),\n",
    "                    ])"
   ]
  },
  {
   "cell_type": "code",
   "execution_count": 21,
   "metadata": {},
   "outputs": [],
   "source": [
    "# tell the model what cost and optimization method to use\n",
    "model.compile(\n",
    "  loss='categorical_crossentropy',\n",
    "  optimizer='Adam',\n",
    "  metrics=['accuracy']\n",
    ")"
   ]
  },
  {
   "cell_type": "code",
   "execution_count": 22,
   "metadata": {},
   "outputs": [
    {
     "name": "stdout",
     "output_type": "stream",
     "text": [
      "Epoch 1/100\n"
     ]
    },
    {
     "name": "stderr",
     "output_type": "stream",
     "text": [
      "C:\\Users\\HP\\AppData\\Roaming\\Python\\Python37\\site-packages\\ipykernel_launcher.py:1: UserWarning: `Model.fit_generator` is deprecated and will be removed in a future version. Please use `Model.fit`, which supports generators.\n",
      "  \"\"\"Entry point for launching an IPython kernel.\n"
     ]
    },
    {
     "name": "stdout",
     "output_type": "stream",
     "text": [
      "20/20 [==============================] - 19s 922ms/step - loss: 2.3728 - accuracy: 0.1921 - val_loss: 123.6113 - val_accuracy: 0.2500\n",
      "Epoch 2/100\n",
      "20/20 [==============================] - 22s 1s/step - loss: 2.1257 - accuracy: 0.2205 - val_loss: 3.1094 - val_accuracy: 0.1844\n",
      "Epoch 3/100\n",
      "20/20 [==============================] - 22s 1s/step - loss: 2.0720 - accuracy: 0.2094 - val_loss: 7.3682 - val_accuracy: 0.1531\n",
      "Epoch 4/100\n",
      "20/20 [==============================] - 21s 1s/step - loss: 1.8884 - accuracy: 0.2567 - val_loss: 14.7443 - val_accuracy: 0.1594\n",
      "Epoch 5/100\n",
      "20/20 [==============================] - 20s 1s/step - loss: 1.7437 - accuracy: 0.3354 - val_loss: 12.9180 - val_accuracy: 0.1094\n",
      "Epoch 6/100\n",
      "20/20 [==============================] - 21s 1s/step - loss: 1.4191 - accuracy: 0.4378 - val_loss: 11.5833 - val_accuracy: 0.4219\n",
      "Epoch 7/100\n",
      "20/20 [==============================] - 20s 1s/step - loss: 1.1735 - accuracy: 0.5165 - val_loss: 15.1072 - val_accuracy: 0.3594\n",
      "Epoch 8/100\n",
      "20/20 [==============================] - 20s 995ms/step - loss: 1.1433 - accuracy: 0.5547 - val_loss: 12.9436 - val_accuracy: 0.2719\n",
      "Epoch 9/100\n",
      "20/20 [==============================] - 20s 1s/step - loss: 1.1066 - accuracy: 0.5496 - val_loss: 32.3239 - val_accuracy: 0.2469\n",
      "Epoch 10/100\n",
      "20/20 [==============================] - 20s 992ms/step - loss: 1.0315 - accuracy: 0.5591 - val_loss: 309.1620 - val_accuracy: 0.2906\n",
      "Epoch 11/100\n",
      "20/20 [==============================] - 21s 1s/step - loss: 0.8687 - accuracy: 0.6472 - val_loss: 724.4805 - val_accuracy: 0.2562\n",
      "Epoch 12/100\n",
      "20/20 [==============================] - 20s 998ms/step - loss: 0.9524 - accuracy: 0.5858 - val_loss: 248.9195 - val_accuracy: 0.2781\n",
      "Epoch 13/100\n",
      "20/20 [==============================] - 20s 1s/step - loss: 0.6653 - accuracy: 0.7213 - val_loss: 1893.7750 - val_accuracy: 0.2438\n",
      "Epoch 14/100\n",
      "20/20 [==============================] - 21s 1s/step - loss: 0.4913 - accuracy: 0.7811 - val_loss: 1908.8912 - val_accuracy: 0.2531\n",
      "Epoch 15/100\n",
      "20/20 [==============================] - 18s 903ms/step - loss: 0.4640 - accuracy: 0.8063 - val_loss: 3300.2668 - val_accuracy: 0.1125\n",
      "Epoch 16/100\n",
      "20/20 [==============================] - 21s 1s/step - loss: 0.5800 - accuracy: 0.7669 - val_loss: 3021.2446 - val_accuracy: 0.1125\n",
      "Epoch 17/100\n",
      "20/20 [==============================] - 21s 1s/step - loss: 0.4582 - accuracy: 0.7969 - val_loss: 3284.5640 - val_accuracy: 0.1344\n",
      "Epoch 18/100\n",
      "20/20 [==============================] - 19s 936ms/step - loss: 0.3965 - accuracy: 0.8315 - val_loss: 6707.0420 - val_accuracy: 0.2344\n",
      "Epoch 19/100\n",
      "20/20 [==============================] - 21s 1s/step - loss: 0.4567 - accuracy: 0.8142 - val_loss: 3243.5977 - val_accuracy: 0.2719\n",
      "Epoch 20/100\n",
      "20/20 [==============================] - 19s 931ms/step - loss: 0.3918 - accuracy: 0.8142 - val_loss: 4284.6675 - val_accuracy: 0.2313\n",
      "Epoch 21/100\n",
      "20/20 [==============================] - 20s 1s/step - loss: 0.5291 - accuracy: 0.7638 - val_loss: 1951.9017 - val_accuracy: 0.3594\n",
      "Epoch 22/100\n",
      "20/20 [==============================] - 20s 1s/step - loss: 0.6873 - accuracy: 0.7150 - val_loss: 1890.5680 - val_accuracy: 0.2250\n",
      "Epoch 23/100\n",
      "20/20 [==============================] - 20s 995ms/step - loss: 0.5374 - accuracy: 0.8047 - val_loss: 4531.5610 - val_accuracy: 0.2062\n",
      "Epoch 24/100\n",
      "20/20 [==============================] - 20s 1s/step - loss: 0.6575 - accuracy: 0.7795 - val_loss: 2108.8503 - val_accuracy: 0.2188\n",
      "Epoch 25/100\n",
      "20/20 [==============================] - 20s 1s/step - loss: 0.3859 - accuracy: 0.8157 - val_loss: 2119.1746 - val_accuracy: 0.3313\n",
      "Epoch 26/100\n",
      "20/20 [==============================] - 21s 1s/step - loss: 0.2912 - accuracy: 0.8819 - val_loss: 2237.3418 - val_accuracy: 0.3562\n",
      "Epoch 27/100\n",
      "20/20 [==============================] - 20s 983ms/step - loss: 0.2446 - accuracy: 0.8803 - val_loss: 2875.3833 - val_accuracy: 0.3906\n",
      "Epoch 28/100\n",
      "20/20 [==============================] - 19s 953ms/step - loss: 0.2573 - accuracy: 0.8882 - val_loss: 5825.8555 - val_accuracy: 0.2625\n",
      "Epoch 29/100\n",
      "20/20 [==============================] - 20s 1s/step - loss: 0.2449 - accuracy: 0.9150 - val_loss: 3770.3413 - val_accuracy: 0.2594\n",
      "Epoch 30/100\n",
      "20/20 [==============================] - 21s 1s/step - loss: 0.2049 - accuracy: 0.9165 - val_loss: 5313.9058 - val_accuracy: 0.2781\n",
      "Epoch 31/100\n",
      "20/20 [==============================] - 20s 1s/step - loss: 0.2324 - accuracy: 0.9197 - val_loss: 10777.6084 - val_accuracy: 0.2594\n",
      "Epoch 32/100\n",
      "20/20 [==============================] - 20s 985ms/step - loss: 0.1481 - accuracy: 0.9496 - val_loss: 12086.5146 - val_accuracy: 0.1156\n",
      "Epoch 33/100\n",
      "20/20 [==============================] - 20s 978ms/step - loss: 0.1683 - accuracy: 0.9496 - val_loss: 3660.8320 - val_accuracy: 0.2469\n",
      "Epoch 34/100\n",
      "20/20 [==============================] - 21s 1s/step - loss: 0.1408 - accuracy: 0.9449 - val_loss: 5546.7949 - val_accuracy: 0.2781\n",
      "Epoch 35/100\n",
      "20/20 [==============================] - 21s 1s/step - loss: 0.0879 - accuracy: 0.9669 - val_loss: 6116.1763 - val_accuracy: 0.2812\n",
      "Epoch 36/100\n",
      "20/20 [==============================] - 20s 1s/step - loss: 0.2598 - accuracy: 0.9087 - val_loss: 6665.3828 - val_accuracy: 0.2188\n",
      "Epoch 37/100\n",
      "20/20 [==============================] - 20s 978ms/step - loss: 0.1834 - accuracy: 0.9339 - val_loss: 10364.7236 - val_accuracy: 0.1250\n",
      "Epoch 38/100\n",
      "20/20 [==============================] - 20s 1s/step - loss: 0.0973 - accuracy: 0.9669 - val_loss: 7094.4595 - val_accuracy: 0.1750\n",
      "Epoch 39/100\n",
      "20/20 [==============================] - 21s 1s/step - loss: 0.0434 - accuracy: 0.9811 - val_loss: 9248.9883 - val_accuracy: 0.1125\n",
      "Epoch 40/100\n",
      "20/20 [==============================] - 19s 967ms/step - loss: 0.0220 - accuracy: 0.9937 - val_loss: 10577.0449 - val_accuracy: 0.1469\n",
      "Epoch 41/100\n",
      "20/20 [==============================] - 22s 1s/step - loss: 0.0525 - accuracy: 0.9795 - val_loss: 6480.4795 - val_accuracy: 0.3406\n",
      "Epoch 42/100\n",
      "20/20 [==============================] - 21s 1s/step - loss: 0.1057 - accuracy: 0.9638 - val_loss: 6750.9385 - val_accuracy: 0.2781\n",
      "Epoch 43/100\n",
      "20/20 [==============================] - 21s 1s/step - loss: 0.0973 - accuracy: 0.9764 - val_loss: 4999.2041 - val_accuracy: 0.3156\n",
      "Epoch 44/100\n",
      "20/20 [==============================] - 23s 1s/step - loss: 0.1555 - accuracy: 0.9528 - val_loss: 7728.9585 - val_accuracy: 0.3281\n",
      "Epoch 45/100\n",
      "20/20 [==============================] - 22s 1s/step - loss: 0.1156 - accuracy: 0.9591 - val_loss: 4425.2139 - val_accuracy: 0.2844\n",
      "Epoch 46/100\n",
      "20/20 [==============================] - 19s 975ms/step - loss: 0.0322 - accuracy: 0.9906 - val_loss: 5380.7373 - val_accuracy: 0.3688\n",
      "Epoch 47/100\n",
      "20/20 [==============================] - 20s 981ms/step - loss: 0.2416 - accuracy: 0.9547 - val_loss: 4535.8955 - val_accuracy: 0.2906\n",
      "Epoch 48/100\n",
      "20/20 [==============================] - 22s 1s/step - loss: 0.1163 - accuracy: 0.9575 - val_loss: 4698.6533 - val_accuracy: 0.2906\n",
      "Epoch 49/100\n",
      "20/20 [==============================] - 21s 1s/step - loss: 0.0640 - accuracy: 0.9827 - val_loss: 3747.6831 - val_accuracy: 0.3031\n",
      "Epoch 50/100\n",
      "20/20 [==============================] - 20s 1s/step - loss: 0.1041 - accuracy: 0.9797 - val_loss: 5027.9629 - val_accuracy: 0.3063\n",
      "Epoch 51/100\n",
      "20/20 [==============================] - 22s 1s/step - loss: 0.0289 - accuracy: 0.9921 - val_loss: 5229.9268 - val_accuracy: 0.3250\n",
      "Epoch 52/100\n",
      "20/20 [==============================] - 21s 1s/step - loss: 0.0517 - accuracy: 0.9827 - val_loss: 9234.2891 - val_accuracy: 0.3156\n",
      "Epoch 53/100\n",
      "20/20 [==============================] - 20s 1s/step - loss: 0.0525 - accuracy: 0.9843 - val_loss: 14205.3809 - val_accuracy: 0.2250\n",
      "Epoch 54/100\n",
      "20/20 [==============================] - 19s 938ms/step - loss: 0.0049 - accuracy: 0.9984 - val_loss: 16375.6270 - val_accuracy: 0.2750\n",
      "Epoch 55/100\n",
      "20/20 [==============================] - 19s 965ms/step - loss: 0.0042 - accuracy: 0.9984 - val_loss: 19964.2676 - val_accuracy: 0.2375\n",
      "Epoch 56/100\n",
      "20/20 [==============================] - 20s 983ms/step - loss: 0.0917 - accuracy: 0.9827 - val_loss: 12446.8730 - val_accuracy: 0.2062\n",
      "Epoch 57/100\n",
      "20/20 [==============================] - 21s 1s/step - loss: 0.2532 - accuracy: 0.9323 - val_loss: 2715.3149 - val_accuracy: 0.3219\n",
      "Epoch 58/100\n",
      "20/20 [==============================] - 22s 1s/step - loss: 0.0791 - accuracy: 0.9717 - val_loss: 6752.9248 - val_accuracy: 0.3500\n",
      "Epoch 59/100\n",
      "20/20 [==============================] - 21s 1s/step - loss: 0.0388 - accuracy: 0.9795 - val_loss: 6256.4478 - val_accuracy: 0.3031\n",
      "Epoch 60/100\n",
      "20/20 [==============================] - 19s 968ms/step - loss: 0.0933 - accuracy: 0.9701 - val_loss: 5816.6812 - val_accuracy: 0.4844\n",
      "Epoch 61/100\n",
      "20/20 [==============================] - 19s 966ms/step - loss: 0.5462 - accuracy: 0.9370 - val_loss: 4010.5415 - val_accuracy: 0.2188\n",
      "Epoch 62/100\n",
      "20/20 [==============================] - 21s 1s/step - loss: 0.1937 - accuracy: 0.9734 - val_loss: 5990.4873 - val_accuracy: 0.2219\n",
      "Epoch 63/100\n",
      "20/20 [==============================] - 21s 1s/step - loss: 0.0570 - accuracy: 0.9795 - val_loss: 17831.6914 - val_accuracy: 0.1437\n",
      "Epoch 64/100\n",
      "20/20 [==============================] - 19s 971ms/step - loss: 0.0205 - accuracy: 0.9922 - val_loss: 18129.5762 - val_accuracy: 0.1187\n",
      "Epoch 65/100\n",
      "20/20 [==============================] - 20s 1s/step - loss: 0.0653 - accuracy: 0.9795 - val_loss: 17280.4727 - val_accuracy: 0.0875\n",
      "Epoch 66/100\n",
      "20/20 [==============================] - 21s 1s/step - loss: 0.0369 - accuracy: 0.9874 - val_loss: 6410.1470 - val_accuracy: 0.1312\n",
      "Epoch 67/100\n",
      "20/20 [==============================] - 21s 1s/step - loss: 0.0290 - accuracy: 0.9890 - val_loss: 7883.6187 - val_accuracy: 0.1562\n",
      "Epoch 68/100\n",
      "20/20 [==============================] - 20s 1s/step - loss: 0.1150 - accuracy: 0.9906 - val_loss: 5835.2690 - val_accuracy: 0.3344\n",
      "Epoch 69/100\n",
      "20/20 [==============================] - 21s 1s/step - loss: 0.0216 - accuracy: 0.9921 - val_loss: 7508.4600 - val_accuracy: 0.3094\n",
      "Epoch 70/100\n",
      "20/20 [==============================] - 22s 1s/step - loss: 0.0696 - accuracy: 0.9795 - val_loss: 7549.6299 - val_accuracy: 0.3094\n",
      "Epoch 71/100\n",
      "20/20 [==============================] - 21s 1s/step - loss: 0.0115 - accuracy: 0.9953 - val_loss: 5908.3760 - val_accuracy: 0.1719\n",
      "Epoch 72/100\n",
      "20/20 [==============================] - 21s 1s/step - loss: 0.0283 - accuracy: 0.9890 - val_loss: 6126.4375 - val_accuracy: 0.1906\n",
      "Epoch 73/100\n",
      "20/20 [==============================] - 21s 1s/step - loss: 0.0051 - accuracy: 1.0000 - val_loss: 6795.4907 - val_accuracy: 0.1937\n",
      "Epoch 74/100\n",
      "20/20 [==============================] - 22s 1s/step - loss: 0.0015 - accuracy: 1.0000 - val_loss: 7860.3506 - val_accuracy: 0.1625\n",
      "Epoch 75/100\n",
      "20/20 [==============================] - 21s 1s/step - loss: 8.9207e-04 - accuracy: 1.0000 - val_loss: 7775.0688 - val_accuracy: 0.2062\n",
      "Epoch 76/100\n",
      "20/20 [==============================] - 20s 995ms/step - loss: 9.4857e-04 - accuracy: 1.0000 - val_loss: 8168.1953 - val_accuracy: 0.1750\n",
      "Epoch 77/100\n",
      "20/20 [==============================] - 22s 1s/step - loss: 9.0092e-05 - accuracy: 1.0000 - val_loss: 8043.7100 - val_accuracy: 0.1844\n",
      "Epoch 78/100\n",
      "20/20 [==============================] - 21s 1s/step - loss: 5.4830e-04 - accuracy: 1.0000 - val_loss: 9623.1514 - val_accuracy: 0.1500\n",
      "Epoch 79/100\n",
      "20/20 [==============================] - 21s 1s/step - loss: 4.6178e-04 - accuracy: 1.0000 - val_loss: 10532.2803 - val_accuracy: 0.1531\n",
      "Epoch 80/100\n",
      "20/20 [==============================] - 20s 1s/step - loss: 1.0351e-04 - accuracy: 1.0000 - val_loss: 11250.3682 - val_accuracy: 0.1625\n",
      "Epoch 81/100\n",
      "20/20 [==============================] - 21s 1s/step - loss: 2.0774e-05 - accuracy: 1.0000 - val_loss: 11334.7676 - val_accuracy: 0.1531\n",
      "Epoch 82/100\n",
      "20/20 [==============================] - 21s 1s/step - loss: 2.5535e-05 - accuracy: 1.0000 - val_loss: 12173.8145 - val_accuracy: 0.1500\n",
      "Epoch 83/100\n",
      "20/20 [==============================] - 21s 1s/step - loss: 5.2338e-06 - accuracy: 1.0000 - val_loss: 13175.9824 - val_accuracy: 0.1281\n",
      "Epoch 84/100\n",
      "20/20 [==============================] - 20s 1s/step - loss: 3.8924e-05 - accuracy: 1.0000 - val_loss: 12918.6611 - val_accuracy: 0.1469\n",
      "Epoch 85/100\n",
      "20/20 [==============================] - 21s 1s/step - loss: 6.2278e-05 - accuracy: 1.0000 - val_loss: 14092.6562 - val_accuracy: 0.1406\n",
      "Epoch 86/100\n",
      "20/20 [==============================] - 21s 1s/step - loss: 1.4301e-05 - accuracy: 1.0000 - val_loss: 14656.2188 - val_accuracy: 0.1625\n",
      "Epoch 87/100\n",
      "20/20 [==============================] - 21s 1s/step - loss: 1.2544e-05 - accuracy: 1.0000 - val_loss: 15962.7520 - val_accuracy: 0.1375\n",
      "Epoch 88/100\n",
      "20/20 [==============================] - 20s 1s/step - loss: 1.6384e-05 - accuracy: 1.0000 - val_loss: 15746.9922 - val_accuracy: 0.1375\n",
      "Epoch 89/100\n",
      "20/20 [==============================] - 21s 1s/step - loss: 4.7276e-06 - accuracy: 1.0000 - val_loss: 15801.9609 - val_accuracy: 0.1437\n",
      "Epoch 90/100\n",
      "20/20 [==============================] - 21s 1s/step - loss: 1.3162e-05 - accuracy: 1.0000 - val_loss: 18258.8848 - val_accuracy: 0.1281\n",
      "Epoch 91/100\n",
      "20/20 [==============================] - 20s 1s/step - loss: 8.6514e-06 - accuracy: 1.0000 - val_loss: 19542.0273 - val_accuracy: 0.1063\n",
      "Epoch 92/100\n",
      "20/20 [==============================] - 20s 1s/step - loss: 7.3237e-05 - accuracy: 1.0000 - val_loss: 15396.0674 - val_accuracy: 0.1250\n",
      "Epoch 93/100\n",
      "20/20 [==============================] - 20s 1s/step - loss: 5.3175e-05 - accuracy: 1.0000 - val_loss: 14691.1719 - val_accuracy: 0.1469\n",
      "Epoch 94/100\n",
      "20/20 [==============================] - 21s 1s/step - loss: 2.4169e-05 - accuracy: 1.0000 - val_loss: 13451.2998 - val_accuracy: 0.1187\n",
      "Epoch 95/100\n",
      "20/20 [==============================] - 20s 1s/step - loss: 1.6106e-05 - accuracy: 1.0000 - val_loss: 13595.4404 - val_accuracy: 0.1437\n",
      "Epoch 96/100\n",
      "20/20 [==============================] - 21s 1s/step - loss: 1.9428e-06 - accuracy: 1.0000 - val_loss: 14453.0918 - val_accuracy: 0.1281\n",
      "Epoch 97/100\n",
      "20/20 [==============================] - 21s 1s/step - loss: 7.9202e-06 - accuracy: 1.0000 - val_loss: 15452.2051 - val_accuracy: 0.1187\n",
      "Epoch 98/100\n",
      "20/20 [==============================] - 21s 1s/step - loss: 2.1048e-06 - accuracy: 1.0000 - val_loss: 15151.1562 - val_accuracy: 0.1281\n",
      "Epoch 99/100\n",
      "20/20 [==============================] - 22s 1s/step - loss: 7.8095e-06 - accuracy: 1.0000 - val_loss: 15847.8096 - val_accuracy: 0.1375\n",
      "Epoch 100/100\n",
      "20/20 [==============================] - 21s 1s/step - loss: 4.4920e-04 - accuracy: 1.0000 - val_loss: 16380.8311 - val_accuracy: 0.1406\n"
     ]
    }
   ],
   "source": [
    "\n",
    "hist = model.fit_generator(traindata,validation_data= testdata,steps_per_epoch=20, validation_steps=10,epochs=100)"
   ]
  },
  {
   "cell_type": "code",
   "execution_count": 23,
   "metadata": {},
   "outputs": [
    {
     "name": "stdout",
     "output_type": "stream",
     "text": [
      "Model: \"sequential_1\"\n",
      "_________________________________________________________________\n",
      " Layer (type)                Output Shape              Param #   \n",
      "=================================================================\n",
      " conv2d_10 (Conv2D)          (None, 64, 64, 64)        1792      \n",
      "                                                                 \n",
      " conv2d_11 (Conv2D)          (None, 64, 64, 64)        36928     \n",
      "                                                                 \n",
      " max_pooling2d_5 (MaxPooling  (None, 32, 32, 64)       0         \n",
      " 2D)                                                             \n",
      "                                                                 \n",
      " conv2d_12 (Conv2D)          (None, 32, 32, 128)       73856     \n",
      "                                                                 \n",
      " conv2d_13 (Conv2D)          (None, 32, 32, 128)       147584    \n",
      "                                                                 \n",
      " max_pooling2d_6 (MaxPooling  (None, 16, 16, 128)      0         \n",
      " 2D)                                                             \n",
      "                                                                 \n",
      " conv2d_14 (Conv2D)          (None, 16, 16, 256)       295168    \n",
      "                                                                 \n",
      " conv2d_15 (Conv2D)          (None, 16, 16, 256)       590080    \n",
      "                                                                 \n",
      " max_pooling2d_7 (MaxPooling  (None, 8, 8, 256)        0         \n",
      " 2D)                                                             \n",
      "                                                                 \n",
      " conv2d_16 (Conv2D)          (None, 8, 8, 512)         1180160   \n",
      "                                                                 \n",
      " conv2d_17 (Conv2D)          (None, 8, 8, 512)         2359808   \n",
      "                                                                 \n",
      " max_pooling2d_8 (MaxPooling  (None, 4, 4, 512)        0         \n",
      " 2D)                                                             \n",
      "                                                                 \n",
      " conv2d_18 (Conv2D)          (None, 4, 4, 512)         2359808   \n",
      "                                                                 \n",
      " conv2d_19 (Conv2D)          (None, 4, 4, 512)         2359808   \n",
      "                                                                 \n",
      " max_pooling2d_9 (MaxPooling  (None, 2, 2, 512)        0         \n",
      " 2D)                                                             \n",
      "                                                                 \n",
      " flatten_1 (Flatten)         (None, 2048)              0         \n",
      "                                                                 \n",
      " dense_3 (Dense)             (None, 128)               262272    \n",
      "                                                                 \n",
      " dense_4 (Dense)             (None, 128)               16512     \n",
      "                                                                 \n",
      " dense_5 (Dense)             (None, 9)                 1161      \n",
      "                                                                 \n",
      "=================================================================\n",
      "Total params: 9,684,937\n",
      "Trainable params: 9,684,937\n",
      "Non-trainable params: 0\n",
      "_________________________________________________________________\n"
     ]
    }
   ],
   "source": [
    "# view the structure of the model\n",
    "model.summary()"
   ]
  },
  {
   "cell_type": "code",
   "execution_count": 30,
   "metadata": {},
   "outputs": [
    {
     "data": {
      "image/png": "[encoded data removed]",
      "text/plain": [
       "<Figure size 640x480 with 1 Axes>"
      ]
     },
     "metadata": {},
     "output_type": "display_data"
    }
   ],
   "source": [
    "plt.plot(hist.history['accuracy'])\n",
    "#plt.plot(hist.history['val_accuracy'])\n",
    "plt.plot(hist.history['loss'])\n",
    "#plt.plot(hist.history['val_loss'])\n",
    "plt.title(\"model accuracy\")\n",
    "plt.ylabel(\"Accuracy\")\n",
    "plt.xlabel(\"Epoch\")\n",
    "plt.legend([\"Accuracy\",\"loss\"])\n",
    "plt.show()"
   ]
  },
  {
   "attachments": {},
   "cell_type": "markdown",
   "metadata": {},
   "source": [
    "Testing the CNN classifier on unseen images"
   ]
  },
  {
   "cell_type": "code",
   "execution_count": 27,
   "metadata": {},
   "outputs": [
    {
     "name": "stdout",
     "output_type": "stream",
     "text": [
      "{'joudi': 0, 'nabeh': 1, 'per4': 2, 'per5': 3, 'per6': 4, 'per7': 5, 'per8': 6, 'qusai': 7, 'souad': 8}\n",
      "########################################\n",
      "Prediction is:  per7\n"
     ]
    }
   ],
   "source": [
    "import numpy as np\n",
    "\n",
    " \n",
    "ImagePath='Datasets/Test/face (pre51063).jpg'\n",
    "test_image=image.load_img(ImagePath,target_size=(64,64))\n",
    "test_image=image.img_to_array(test_image)\n",
    "test_image=np.expand_dims(test_image,axis=0)\n",
    "result=model.predict(test_image,verbose=0)\n",
    "print(traindata.class_indices)\n",
    " \n",
    "print('####'*10)\n",
    "print('Prediction is: ',ResultMap[np.argmax(result)])"
   ]
  },
  {
   "cell_type": "code",
   "execution_count": null,
   "metadata": {},
   "outputs": [],
   "source": [
    "import tensorflow as tf\n",
    "\n",
    "from keras.models import load_model\n",
    "\n",
    "#model.save('facefeatures_new_model.h5')"
   ]
  },
  {
   "cell_type": "code",
   "execution_count": null,
   "metadata": {},
   "outputs": [],
   "source": []
  }
 ],
 "metadata": {
  "kernelspec": {
   "display_name": "Python 3",
   "language": "python",
   "name": "python3"
  },
  "language_info": {
   "codemirror_mode": {
    "name": "ipython",
    "version": 3
   },
   "file_extension": ".py",
   "mimetype": "text/x-python",
   "name": "python",
   "nbconvert_exporter": "python",
   "pygments_lexer": "ipython3",
   "version": "3.7.4 (tags/v3.7.4:e09359112e, Jul  8 2019, 20:34:20) [MSC v.1916 64 bit (AMD64)]"
  },
  "orig_nbformat": 4,
  "vscode": {
   "interpreter": {
    "hash": "5109d816b82be14675a6b11f8e0f0d2e80f029176ed3710d54e125caa8520dfd"
   }
  }
 },
 "nbformat": 4,
 "nbformat_minor": 2
}
